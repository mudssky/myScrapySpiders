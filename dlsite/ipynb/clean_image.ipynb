{
 "cells": [
  {
   "cell_type": "code",
   "execution_count": 65,
   "metadata": {},
   "outputs": [],
   "source": [
    "import pymongo\n",
    "import os\n",
    "import shutil"
   ]
  },
  {
   "cell_type": "code",
   "execution_count": 66,
   "metadata": {},
   "outputs": [],
   "source": [
    "client=pymongo.MongoClient('mongodb://localhost:27017/')\n",
    "db=client['dlsite']\n",
    "coll=db['items']"
   ]
  },
  {
   "cell_type": "code",
   "execution_count": 67,
   "metadata": {},
   "outputs": [],
   "source": [
    "image_folder=os.path.abspath('../.scrapy/images/')"
   ]
  },
  {
   "cell_type": "code",
   "execution_count": 79,
   "metadata": {},
   "outputs": [],
   "source": [
    "# 不进行清理的产品id\n",
    "# 有声优的非翻译数据不进行清理，其他产品都清理只保留封面图\n",
    "remain_id_list=coll.distinct('product_id',{\n",
    "    'cv_list': {\n",
    "        '$exists': True\n",
    "    }, \n",
    "    'translation_id': {\n",
    "        '$exists': False\n",
    "    }\n",
    "})\n",
    "remain_id_set=set(remain_id_list)\n",
    "if len(remain_id_list)<10000:\n",
    "    raise ValueError('remain_id_list is too short')"
   ]
  },
  {
   "cell_type": "code",
   "execution_count": 98,
   "metadata": {},
   "outputs": [],
   "source": [
    "def month_paths():\n",
    "    for year in range(1996,2024):\n",
    "        for month in range(1,13):\n",
    "            yield f'{year}{os.sep}{month:02}'\n",
    "        \n",
    "def product_paths():\n",
    "    for month_path in month_paths():\n",
    "        abs_month_folder= os.path.join(image_folder,month_path)\n",
    "        if os.path.exists(abs_month_folder):\n",
    "            for id in os.listdir(abs_month_folder):\n",
    "                  yield os.path.join(abs_month_folder,id)\n",
    "def can_clean(product_id,img_filename):\n",
    "    # print(f'can_clean: {product_id},{img_filename}')\n",
    "    if  (product_id not in  remain_id_set) and ('img_main' not in img_filename):\n",
    "        return True\n",
    "    return False\n",
    "    \n",
    "def clean_product_folder(product_path):\n",
    "    for filename in os.listdir(product_path):\n",
    "        # print(f'product_path:{product_path}')\n",
    "        # print(f'img_filename:{filename}')\n",
    "        product_id=os.path.split(product_path)[1]\n",
    "        if can_clean(product_id,filename):\n",
    "            img_path=os.path.join(product_path,filename)\n",
    "            # print(f'del {img_path}')\n",
    "            os.remove(img_path)\n",
    "            "
   ]
  },
  {
   "cell_type": "code",
   "execution_count": 99,
   "metadata": {},
   "outputs": [],
   "source": [
    "def exec_clean():\n",
    "    print('危险,请确认remain_id_set中是需要的内容，防止误删(默认清理remain_id之外的内容)')\n",
    "    return\n",
    "    for p in product_paths():\n",
    "        clean_product_folder(p)\n",
    "exec_clean()"
   ]
  },
  {
   "cell_type": "code",
   "execution_count": 92,
   "metadata": {},
   "outputs": [
    {
     "data": {
      "text/plain": [
       "['2013\\\\01',\n",
       " '2013\\\\02',\n",
       " '2013\\\\03',\n",
       " '2013\\\\04',\n",
       " '2013\\\\05',\n",
       " '2013\\\\06',\n",
       " '2013\\\\07',\n",
       " '2013\\\\08',\n",
       " '2013\\\\09',\n",
       " '2013\\\\10',\n",
       " '2013\\\\11',\n",
       " '2013\\\\12']"
      ]
     },
     "execution_count": 92,
     "metadata": {},
     "output_type": "execute_result"
    }
   ],
   "source": [
    "list(month_paths())"
   ]
  },
  {
   "cell_type": "code",
   "execution_count": 84,
   "metadata": {},
   "outputs": [
    {
     "data": {
      "text/plain": [
       "True"
      ]
     },
     "execution_count": 84,
     "metadata": {},
     "output_type": "execute_result"
    }
   ],
   "source": [
    "can_clean('RJ112641','RJ112641_img_smp2')"
   ]
  },
  {
   "cell_type": "code",
   "execution_count": 18,
   "metadata": {},
   "outputs": [
    {
     "name": "stdout",
     "output_type": "stream",
     "text": [
      "RJ001582\n",
      "RJ001583\n"
     ]
    }
   ],
   "source": [
    "# clean_id_list=[]\n",
    "# remain_id_set=set(remain_id_list)\n",
    "# for year in range(1996,1997):\n",
    "# \tfor month in range(1,13):\n",
    "# \t\tmonth_folder=os.path.join(image_folder,str(year),str(month))\n",
    "# \t\tif os.path.exists(month_folder):\n",
    "# \t\t\tfor id in os.listdir(month_folder):\n",
    "\n",
    "# \t\t\t\tshutil.rmtree(os.path.join(month_folder,id))\n",
    "        # if  id not in remain_id_set:\n",
    "            # clean_id_list.append(id)\n",
    "\n",
    "# clean_id_list\n",
    "    "
   ]
  },
  {
   "cell_type": "code",
   "execution_count": null,
   "metadata": {},
   "outputs": [],
   "source": []
  }
 ],
 "metadata": {
  "kernelspec": {
   "display_name": "myscrapyspiders-Cu8sDEZ9-py3.11",
   "language": "python",
   "name": "python3"
  },
  "language_info": {
   "codemirror_mode": {
    "name": "ipython",
    "version": 3
   },
   "file_extension": ".py",
   "mimetype": "text/x-python",
   "name": "python",
   "nbconvert_exporter": "python",
   "pygments_lexer": "ipython3",
   "version": "3.11.1"
  },
  "orig_nbformat": 4
 },
 "nbformat": 4,
 "nbformat_minor": 2
}
